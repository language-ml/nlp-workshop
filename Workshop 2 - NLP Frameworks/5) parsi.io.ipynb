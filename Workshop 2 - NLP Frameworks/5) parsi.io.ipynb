{
 "cells": [
  {
   "metadata": {},
   "cell_type": "markdown",
   "source": [
    "<font>\n",
    "<div dir=ltr align=center>\n",
    "<img src='https://cdn.freebiesupply.com/logos/large/2x/sharif-logo-png-transparent.png' width=150 height=150> <br>\n",
    "<font color=0F5298 size=6>\n",
    "Natural Language Processing<br>\n",
    "<font color=2565AE size=4>\n",
    "Computer Engineering Department<br>\n",
    "Spring 2025<br>\n",
    "<font color=3C99D size=4>\n",
    "Workshop 1 - NLP Frameworks - Parsi.io<br>\n",
    "<font color=696880 size=3>\n",
    "<a href='https://language.ml'>https://language.ml</a><br>\n",
    "info [AT] language [dot] ml"
   ],
   "id": "99ace3b6f559ac3"
  },
  {
   "metadata": {},
   "cell_type": "markdown",
   "source": [
    "# 📖 Part 1: Introduction\n",
    "\n",
    "## ❓ What is Parsi.io? ([GitHub](https://github.com/language-ml/parsi.io))\n",
    "\n",
    "`parsi.io` is an **industrial-grade Persian NLP toolkit** maintained by the language-ml lab.\n",
    "It goes beyond basic preprocessing by offering ready-made extractors for prices, quantities, verb morphology, and even Old-Persian text normalization. The project is open-source and receives active updates (≈ 180 commits, last push June 2024).\n",
    "\n",
    "---\n",
    "\n",
    "## ✅ When to Use Parsi.io\n",
    "\n",
    "* **E-commerce or classifieds analytics** – extract prices, units, and product names from unstructured ads.\n",
    "* **Temporal or event extraction** – leverage the verb-information module for tense, person, and root detection.\n",
    "* **Digital-humanities on classical corpora** – Old-Persian normalizer and lemmatizer fill gaps left by Hazm/Parsivar.\n",
    "* **Quick prototyping** – one-line `.run(text)` returns structured JSON, avoiding custom regex pipelines.\n",
    "\n",
    "---\n",
    "\n",
    "## 🚫 When Not to Use Parsi.io\n",
    "\n",
    "* **Neural downstream tasks (e.g., text classification, embeddings)** – opt for Hugging Face transformers instead.\n",
    "* **Token-level customization** – if you need low-level control over tokenization or custom linguistic attributes, spaCy with a Persian model is more flexible.\n",
    "* **Ultra-large corpora requiring distributed processing** – parsi.io is a pure-Python library aimed at single-machine workloads; Spark-based pipelines or Elastic Search ingest plugins may scale better."
   ],
   "id": "98dacdc744a17d41"
  },
  {
   "metadata": {},
   "cell_type": "markdown",
   "source": "## ⚙️ Installation & Setup",
   "id": "2da01515538c4e99"
  },
  {
   "metadata": {
    "ExecuteTime": {
     "end_time": "2025-04-24T01:45:43.429640Z",
     "start_time": "2025-04-24T01:45:40.392408Z"
    }
   },
   "cell_type": "code",
   "source": [
    "# On Apple Silicon, you may need to install the following:\n",
    "!brew install cmake boost\n",
    "!CMAKE_OSX_ARCHITECTURES=arm64 pip install camel-tools"
   ],
   "id": "441a5989c38366e6",
   "outputs": [
    {
     "name": "stdout",
     "output_type": "stream",
     "text": [
      "\u001B[34m==>\u001B[0m \u001B[1mDownloading https://formulae.brew.sh/api/formula.jws.json\u001B[0m\r\n",
      "\u001B[34m==>\u001B[0m \u001B[1mDownloading https://formulae.brew.sh/api/cask.jws.json\u001B[0m\r\n",
      "\u001B[33mWarning:\u001B[0m Treating cmake as a formula. For the cask, use homebrew/cask/cmake or specify the `--cask` flag. To silence this message, use the `--formula` flag.\r\n",
      "\u001B[33mWarning:\u001B[0m cmake 4.0.1 is already installed and up-to-date.\r\n",
      "To reinstall 4.0.1, run:\r\n",
      "  brew reinstall cmake\r\n",
      "\u001B[33mWarning:\u001B[0m boost 1.88.0 is already installed and up-to-date.\r\n",
      "To reinstall 1.88.0, run:\r\n",
      "  brew reinstall boost\r\n",
      "Requirement already satisfied: camel-tools in /opt/homebrew/anaconda3/envs/Jupyter310/lib/python3.10/site-packages (1.5.6)\r\n",
      "Requirement already satisfied: future in /opt/homebrew/anaconda3/envs/Jupyter310/lib/python3.10/site-packages (from camel-tools) (1.0.0)\r\n",
      "Requirement already satisfied: six in /opt/homebrew/anaconda3/envs/Jupyter310/lib/python3.10/site-packages (from camel-tools) (1.17.0)\r\n",
      "Requirement already satisfied: docopt in /opt/homebrew/anaconda3/envs/Jupyter310/lib/python3.10/site-packages (from camel-tools) (0.6.2)\r\n",
      "Requirement already satisfied: cachetools in /opt/homebrew/anaconda3/envs/Jupyter310/lib/python3.10/site-packages (from camel-tools) (5.5.2)\r\n",
      "Requirement already satisfied: numpy<2 in /opt/homebrew/anaconda3/envs/Jupyter310/lib/python3.10/site-packages (from camel-tools) (1.24.3)\r\n",
      "Requirement already satisfied: scipy in /opt/homebrew/anaconda3/envs/Jupyter310/lib/python3.10/site-packages (from camel-tools) (1.13.1)\r\n",
      "Requirement already satisfied: pandas in /opt/homebrew/anaconda3/envs/Jupyter310/lib/python3.10/site-packages (from camel-tools) (2.2.3)\r\n",
      "Requirement already satisfied: scikit-learn in /opt/homebrew/anaconda3/envs/Jupyter310/lib/python3.10/site-packages (from camel-tools) (1.6.1)\r\n",
      "Requirement already satisfied: dill in /opt/homebrew/anaconda3/envs/Jupyter310/lib/python3.10/site-packages (from camel-tools) (0.4.0)\r\n",
      "Requirement already satisfied: torch>=2.0 in /opt/homebrew/anaconda3/envs/Jupyter310/lib/python3.10/site-packages (from camel-tools) (2.7.0)\r\n",
      "Requirement already satisfied: transformers<4.44.0,>=4.0 in /opt/homebrew/anaconda3/envs/Jupyter310/lib/python3.10/site-packages (from camel-tools) (4.43.4)\r\n",
      "Requirement already satisfied: editdistance in /opt/homebrew/anaconda3/envs/Jupyter310/lib/python3.10/site-packages (from camel-tools) (0.8.1)\r\n",
      "Requirement already satisfied: requests in /opt/homebrew/anaconda3/envs/Jupyter310/lib/python3.10/site-packages (from camel-tools) (2.32.3)\r\n",
      "Requirement already satisfied: emoji in /opt/homebrew/anaconda3/envs/Jupyter310/lib/python3.10/site-packages (from camel-tools) (2.14.1)\r\n",
      "Requirement already satisfied: pyrsistent in /opt/homebrew/anaconda3/envs/Jupyter310/lib/python3.10/site-packages (from camel-tools) (0.20.0)\r\n",
      "Requirement already satisfied: tabulate in /opt/homebrew/anaconda3/envs/Jupyter310/lib/python3.10/site-packages (from camel-tools) (0.9.0)\r\n",
      "Requirement already satisfied: tqdm in /opt/homebrew/anaconda3/envs/Jupyter310/lib/python3.10/site-packages (from camel-tools) (4.67.1)\r\n",
      "Requirement already satisfied: muddler in /opt/homebrew/anaconda3/envs/Jupyter310/lib/python3.10/site-packages (from camel-tools) (0.1.3)\r\n",
      "Requirement already satisfied: camel-kenlm>=2025.4.8 in /opt/homebrew/anaconda3/envs/Jupyter310/lib/python3.10/site-packages (from camel-tools) (2025.4.8)\r\n",
      "Requirement already satisfied: filelock in /opt/homebrew/anaconda3/envs/Jupyter310/lib/python3.10/site-packages (from torch>=2.0->camel-tools) (3.18.0)\r\n",
      "Requirement already satisfied: typing-extensions>=4.10.0 in /opt/homebrew/anaconda3/envs/Jupyter310/lib/python3.10/site-packages (from torch>=2.0->camel-tools) (4.13.2)\r\n",
      "Requirement already satisfied: sympy>=1.13.3 in /opt/homebrew/anaconda3/envs/Jupyter310/lib/python3.10/site-packages (from torch>=2.0->camel-tools) (1.13.3)\r\n",
      "Requirement already satisfied: networkx in /opt/homebrew/anaconda3/envs/Jupyter310/lib/python3.10/site-packages (from torch>=2.0->camel-tools) (3.4.2)\r\n",
      "Requirement already satisfied: jinja2 in /opt/homebrew/anaconda3/envs/Jupyter310/lib/python3.10/site-packages (from torch>=2.0->camel-tools) (3.1.6)\r\n",
      "Requirement already satisfied: fsspec in /opt/homebrew/anaconda3/envs/Jupyter310/lib/python3.10/site-packages (from torch>=2.0->camel-tools) (2025.3.2)\r\n",
      "Requirement already satisfied: huggingface-hub<1.0,>=0.23.2 in /opt/homebrew/anaconda3/envs/Jupyter310/lib/python3.10/site-packages (from transformers<4.44.0,>=4.0->camel-tools) (0.30.2)\r\n",
      "Requirement already satisfied: packaging>=20.0 in /opt/homebrew/anaconda3/envs/Jupyter310/lib/python3.10/site-packages (from transformers<4.44.0,>=4.0->camel-tools) (25.0)\r\n",
      "Requirement already satisfied: pyyaml>=5.1 in /opt/homebrew/anaconda3/envs/Jupyter310/lib/python3.10/site-packages (from transformers<4.44.0,>=4.0->camel-tools) (6.0.2)\r\n",
      "Requirement already satisfied: regex!=2019.12.17 in /opt/homebrew/anaconda3/envs/Jupyter310/lib/python3.10/site-packages (from transformers<4.44.0,>=4.0->camel-tools) (2024.11.6)\r\n",
      "Requirement already satisfied: safetensors>=0.4.1 in /opt/homebrew/anaconda3/envs/Jupyter310/lib/python3.10/site-packages (from transformers<4.44.0,>=4.0->camel-tools) (0.5.3)\r\n",
      "Requirement already satisfied: tokenizers<0.20,>=0.19 in /opt/homebrew/anaconda3/envs/Jupyter310/lib/python3.10/site-packages (from transformers<4.44.0,>=4.0->camel-tools) (0.19.1)\r\n",
      "Requirement already satisfied: python-dateutil>=2.8.2 in /opt/homebrew/anaconda3/envs/Jupyter310/lib/python3.10/site-packages (from pandas->camel-tools) (2.9.0.post0)\r\n",
      "Requirement already satisfied: pytz>=2020.1 in /opt/homebrew/anaconda3/envs/Jupyter310/lib/python3.10/site-packages (from pandas->camel-tools) (2025.2)\r\n",
      "Requirement already satisfied: tzdata>=2022.7 in /opt/homebrew/anaconda3/envs/Jupyter310/lib/python3.10/site-packages (from pandas->camel-tools) (2025.2)\r\n",
      "Requirement already satisfied: charset-normalizer<4,>=2 in /opt/homebrew/anaconda3/envs/Jupyter310/lib/python3.10/site-packages (from requests->camel-tools) (3.4.1)\r\n",
      "Requirement already satisfied: idna<4,>=2.5 in /opt/homebrew/anaconda3/envs/Jupyter310/lib/python3.10/site-packages (from requests->camel-tools) (3.10)\r\n",
      "Requirement already satisfied: urllib3<3,>=1.21.1 in /opt/homebrew/anaconda3/envs/Jupyter310/lib/python3.10/site-packages (from requests->camel-tools) (2.4.0)\r\n",
      "Requirement already satisfied: certifi>=2017.4.17 in /opt/homebrew/anaconda3/envs/Jupyter310/lib/python3.10/site-packages (from requests->camel-tools) (2025.1.31)\r\n",
      "Requirement already satisfied: joblib>=1.2.0 in /opt/homebrew/anaconda3/envs/Jupyter310/lib/python3.10/site-packages (from scikit-learn->camel-tools) (1.4.2)\r\n",
      "Requirement already satisfied: threadpoolctl>=3.1.0 in /opt/homebrew/anaconda3/envs/Jupyter310/lib/python3.10/site-packages (from scikit-learn->camel-tools) (3.6.0)\r\n",
      "Requirement already satisfied: mpmath<1.4,>=1.1.0 in /opt/homebrew/anaconda3/envs/Jupyter310/lib/python3.10/site-packages (from sympy>=1.13.3->torch>=2.0->camel-tools) (1.3.0)\r\n",
      "Requirement already satisfied: MarkupSafe>=2.0 in /opt/homebrew/anaconda3/envs/Jupyter310/lib/python3.10/site-packages (from jinja2->torch>=2.0->camel-tools) (3.0.2)\r\n"
     ]
    }
   ],
   "execution_count": 1
  },
  {
   "metadata": {
    "ExecuteTime": {
     "end_time": "2025-04-24T01:45:43.954365Z",
     "start_time": "2025-04-24T01:45:43.433886Z"
    }
   },
   "cell_type": "code",
   "source": "!pip install camel-kenlm",
   "id": "6a43001524b58232",
   "outputs": [
    {
     "name": "stdout",
     "output_type": "stream",
     "text": [
      "Requirement already satisfied: camel-kenlm in /opt/homebrew/anaconda3/envs/Jupyter310/lib/python3.10/site-packages (2025.4.8)\r\n"
     ]
    }
   ],
   "execution_count": 2
  },
  {
   "metadata": {
    "collapsed": true,
    "ExecuteTime": {
     "end_time": "2025-04-24T01:47:18.986548Z",
     "start_time": "2025-04-24T01:46:56.393360Z"
    }
   },
   "cell_type": "code",
   "source": [
    "!pip install git+https://github.com/language-ml/parsi.io.git\n",
    "\n",
    "# or, for development:\n",
    "# !pip install -e git+https://github.com/language-ml/parsi.io.git"
   ],
   "id": "initial_id",
   "outputs": [
    {
     "name": "stdout",
     "output_type": "stream",
     "text": [
      "Collecting git+https://github.com/language-ml/parsi.io.git\r\n",
      "  Cloning https://github.com/language-ml/parsi.io.git to /private/var/folders/tk/kx7c6x1j16gdg23gt5g8mr440000gn/T/pip-req-build-tufrljtk\r\n",
      "  Running command git clone --filter=blob:none --quiet https://github.com/language-ml/parsi.io.git /private/var/folders/tk/kx7c6x1j16gdg23gt5g8mr440000gn/T/pip-req-build-tufrljtk\r\n",
      "  Resolved https://github.com/language-ml/parsi.io.git to commit 22427882850fecbcbcc91eabbafebc3a30dbdf66\r\n",
      "  Preparing metadata (setup.py) ... \u001B[?25ldone\r\n",
      "\u001B[?25hRequirement already satisfied: hazm>=0.7.0 in /opt/homebrew/anaconda3/envs/Jupyter310/lib/python3.10/site-packages (from parsi_io==0.1.0) (0.10.0)\r\n",
      "Requirement already satisfied: tqdm in /opt/homebrew/anaconda3/envs/Jupyter310/lib/python3.10/site-packages (from parsi_io==0.1.0) (4.67.1)\r\n",
      "Requirement already satisfied: camel-tools in /opt/homebrew/anaconda3/envs/Jupyter310/lib/python3.10/site-packages (from parsi_io==0.1.0) (1.5.6)\r\n",
      "Requirement already satisfied: Tashaphyne in /opt/homebrew/anaconda3/envs/Jupyter310/lib/python3.10/site-packages (from parsi_io==0.1.0) (0.3.6)\r\n",
      "Requirement already satisfied: gdown in /opt/homebrew/anaconda3/envs/Jupyter310/lib/python3.10/site-packages (from parsi_io==0.1.0) (5.2.0)\r\n",
      "Requirement already satisfied: fasttext-wheel<0.10.0,>=0.9.2 in /opt/homebrew/anaconda3/envs/Jupyter310/lib/python3.10/site-packages (from hazm>=0.7.0->parsi_io==0.1.0) (0.9.2)\r\n",
      "Requirement already satisfied: flashtext<3.0,>=2.7 in /opt/homebrew/anaconda3/envs/Jupyter310/lib/python3.10/site-packages (from hazm>=0.7.0->parsi_io==0.1.0) (2.7)\r\n",
      "Requirement already satisfied: gensim<5.0.0,>=4.3.1 in /opt/homebrew/anaconda3/envs/Jupyter310/lib/python3.10/site-packages (from hazm>=0.7.0->parsi_io==0.1.0) (4.3.3)\r\n",
      "Requirement already satisfied: nltk<4.0.0,>=3.8.1 in /opt/homebrew/anaconda3/envs/Jupyter310/lib/python3.10/site-packages (from hazm>=0.7.0->parsi_io==0.1.0) (3.9.1)\r\n",
      "Requirement already satisfied: numpy==1.24.3 in /opt/homebrew/anaconda3/envs/Jupyter310/lib/python3.10/site-packages (from hazm>=0.7.0->parsi_io==0.1.0) (1.24.3)\r\n",
      "Requirement already satisfied: python-crfsuite<0.10.0,>=0.9.9 in /opt/homebrew/anaconda3/envs/Jupyter310/lib/python3.10/site-packages (from hazm>=0.7.0->parsi_io==0.1.0) (0.9.11)\r\n",
      "Requirement already satisfied: scikit-learn<2.0.0,>=1.2.2 in /opt/homebrew/anaconda3/envs/Jupyter310/lib/python3.10/site-packages (from hazm>=0.7.0->parsi_io==0.1.0) (1.6.1)\r\n",
      "Requirement already satisfied: future in /opt/homebrew/anaconda3/envs/Jupyter310/lib/python3.10/site-packages (from camel-tools->parsi_io==0.1.0) (1.0.0)\r\n",
      "Requirement already satisfied: six in /opt/homebrew/anaconda3/envs/Jupyter310/lib/python3.10/site-packages (from camel-tools->parsi_io==0.1.0) (1.17.0)\r\n",
      "Requirement already satisfied: docopt in /opt/homebrew/anaconda3/envs/Jupyter310/lib/python3.10/site-packages (from camel-tools->parsi_io==0.1.0) (0.6.2)\r\n",
      "Requirement already satisfied: cachetools in /opt/homebrew/anaconda3/envs/Jupyter310/lib/python3.10/site-packages (from camel-tools->parsi_io==0.1.0) (5.5.2)\r\n",
      "Requirement already satisfied: scipy in /opt/homebrew/anaconda3/envs/Jupyter310/lib/python3.10/site-packages (from camel-tools->parsi_io==0.1.0) (1.13.1)\r\n",
      "Requirement already satisfied: pandas in /opt/homebrew/anaconda3/envs/Jupyter310/lib/python3.10/site-packages (from camel-tools->parsi_io==0.1.0) (2.2.3)\r\n",
      "Requirement already satisfied: dill in /opt/homebrew/anaconda3/envs/Jupyter310/lib/python3.10/site-packages (from camel-tools->parsi_io==0.1.0) (0.4.0)\r\n",
      "Requirement already satisfied: torch>=2.0 in /opt/homebrew/anaconda3/envs/Jupyter310/lib/python3.10/site-packages (from camel-tools->parsi_io==0.1.0) (2.7.0)\r\n",
      "Requirement already satisfied: transformers<4.44.0,>=4.0 in /opt/homebrew/anaconda3/envs/Jupyter310/lib/python3.10/site-packages (from camel-tools->parsi_io==0.1.0) (4.43.4)\r\n",
      "Requirement already satisfied: editdistance in /opt/homebrew/anaconda3/envs/Jupyter310/lib/python3.10/site-packages (from camel-tools->parsi_io==0.1.0) (0.8.1)\r\n",
      "Requirement already satisfied: requests in /opt/homebrew/anaconda3/envs/Jupyter310/lib/python3.10/site-packages (from camel-tools->parsi_io==0.1.0) (2.32.3)\r\n",
      "Requirement already satisfied: emoji in /opt/homebrew/anaconda3/envs/Jupyter310/lib/python3.10/site-packages (from camel-tools->parsi_io==0.1.0) (2.14.1)\r\n",
      "Requirement already satisfied: pyrsistent in /opt/homebrew/anaconda3/envs/Jupyter310/lib/python3.10/site-packages (from camel-tools->parsi_io==0.1.0) (0.20.0)\r\n",
      "Requirement already satisfied: tabulate in /opt/homebrew/anaconda3/envs/Jupyter310/lib/python3.10/site-packages (from camel-tools->parsi_io==0.1.0) (0.9.0)\r\n",
      "Requirement already satisfied: muddler in /opt/homebrew/anaconda3/envs/Jupyter310/lib/python3.10/site-packages (from camel-tools->parsi_io==0.1.0) (0.1.3)\r\n",
      "Requirement already satisfied: camel-kenlm>=2025.4.8 in /opt/homebrew/anaconda3/envs/Jupyter310/lib/python3.10/site-packages (from camel-tools->parsi_io==0.1.0) (2025.4.8)\r\n",
      "Requirement already satisfied: beautifulsoup4 in /opt/homebrew/anaconda3/envs/Jupyter310/lib/python3.10/site-packages (from gdown->parsi_io==0.1.0) (4.13.4)\r\n",
      "Requirement already satisfied: filelock in /opt/homebrew/anaconda3/envs/Jupyter310/lib/python3.10/site-packages (from gdown->parsi_io==0.1.0) (3.18.0)\r\n",
      "Requirement already satisfied: pyarabic in /opt/homebrew/anaconda3/envs/Jupyter310/lib/python3.10/site-packages (from Tashaphyne->parsi_io==0.1.0) (0.6.15)\r\n",
      "Requirement already satisfied: pybind11>=2.2 in /opt/homebrew/anaconda3/envs/Jupyter310/lib/python3.10/site-packages (from fasttext-wheel<0.10.0,>=0.9.2->hazm>=0.7.0->parsi_io==0.1.0) (2.13.6)\r\n",
      "Requirement already satisfied: setuptools>=0.7.0 in /opt/homebrew/anaconda3/envs/Jupyter310/lib/python3.10/site-packages (from fasttext-wheel<0.10.0,>=0.9.2->hazm>=0.7.0->parsi_io==0.1.0) (75.8.0)\r\n",
      "Requirement already satisfied: smart-open>=1.8.1 in /opt/homebrew/anaconda3/envs/Jupyter310/lib/python3.10/site-packages (from gensim<5.0.0,>=4.3.1->hazm>=0.7.0->parsi_io==0.1.0) (7.1.0)\r\n",
      "Requirement already satisfied: click in /opt/homebrew/anaconda3/envs/Jupyter310/lib/python3.10/site-packages (from nltk<4.0.0,>=3.8.1->hazm>=0.7.0->parsi_io==0.1.0) (8.1.8)\r\n",
      "Requirement already satisfied: joblib in /opt/homebrew/anaconda3/envs/Jupyter310/lib/python3.10/site-packages (from nltk<4.0.0,>=3.8.1->hazm>=0.7.0->parsi_io==0.1.0) (1.4.2)\r\n",
      "Requirement already satisfied: regex>=2021.8.3 in /opt/homebrew/anaconda3/envs/Jupyter310/lib/python3.10/site-packages (from nltk<4.0.0,>=3.8.1->hazm>=0.7.0->parsi_io==0.1.0) (2024.11.6)\r\n",
      "Requirement already satisfied: threadpoolctl>=3.1.0 in /opt/homebrew/anaconda3/envs/Jupyter310/lib/python3.10/site-packages (from scikit-learn<2.0.0,>=1.2.2->hazm>=0.7.0->parsi_io==0.1.0) (3.6.0)\r\n",
      "Requirement already satisfied: typing-extensions>=4.10.0 in /opt/homebrew/anaconda3/envs/Jupyter310/lib/python3.10/site-packages (from torch>=2.0->camel-tools->parsi_io==0.1.0) (4.13.2)\r\n",
      "Requirement already satisfied: sympy>=1.13.3 in /opt/homebrew/anaconda3/envs/Jupyter310/lib/python3.10/site-packages (from torch>=2.0->camel-tools->parsi_io==0.1.0) (1.13.3)\r\n",
      "Requirement already satisfied: networkx in /opt/homebrew/anaconda3/envs/Jupyter310/lib/python3.10/site-packages (from torch>=2.0->camel-tools->parsi_io==0.1.0) (3.4.2)\r\n",
      "Requirement already satisfied: jinja2 in /opt/homebrew/anaconda3/envs/Jupyter310/lib/python3.10/site-packages (from torch>=2.0->camel-tools->parsi_io==0.1.0) (3.1.6)\r\n",
      "Requirement already satisfied: fsspec in /opt/homebrew/anaconda3/envs/Jupyter310/lib/python3.10/site-packages (from torch>=2.0->camel-tools->parsi_io==0.1.0) (2025.3.2)\r\n",
      "Requirement already satisfied: huggingface-hub<1.0,>=0.23.2 in /opt/homebrew/anaconda3/envs/Jupyter310/lib/python3.10/site-packages (from transformers<4.44.0,>=4.0->camel-tools->parsi_io==0.1.0) (0.30.2)\r\n",
      "Requirement already satisfied: packaging>=20.0 in /opt/homebrew/anaconda3/envs/Jupyter310/lib/python3.10/site-packages (from transformers<4.44.0,>=4.0->camel-tools->parsi_io==0.1.0) (25.0)\r\n",
      "Requirement already satisfied: pyyaml>=5.1 in /opt/homebrew/anaconda3/envs/Jupyter310/lib/python3.10/site-packages (from transformers<4.44.0,>=4.0->camel-tools->parsi_io==0.1.0) (6.0.2)\r\n",
      "Requirement already satisfied: safetensors>=0.4.1 in /opt/homebrew/anaconda3/envs/Jupyter310/lib/python3.10/site-packages (from transformers<4.44.0,>=4.0->camel-tools->parsi_io==0.1.0) (0.5.3)\r\n",
      "Requirement already satisfied: tokenizers<0.20,>=0.19 in /opt/homebrew/anaconda3/envs/Jupyter310/lib/python3.10/site-packages (from transformers<4.44.0,>=4.0->camel-tools->parsi_io==0.1.0) (0.19.1)\r\n",
      "Requirement already satisfied: soupsieve>1.2 in /opt/homebrew/anaconda3/envs/Jupyter310/lib/python3.10/site-packages (from beautifulsoup4->gdown->parsi_io==0.1.0) (2.7)\r\n",
      "Requirement already satisfied: python-dateutil>=2.8.2 in /opt/homebrew/anaconda3/envs/Jupyter310/lib/python3.10/site-packages (from pandas->camel-tools->parsi_io==0.1.0) (2.9.0.post0)\r\n",
      "Requirement already satisfied: pytz>=2020.1 in /opt/homebrew/anaconda3/envs/Jupyter310/lib/python3.10/site-packages (from pandas->camel-tools->parsi_io==0.1.0) (2025.2)\r\n",
      "Requirement already satisfied: tzdata>=2022.7 in /opt/homebrew/anaconda3/envs/Jupyter310/lib/python3.10/site-packages (from pandas->camel-tools->parsi_io==0.1.0) (2025.2)\r\n",
      "Requirement already satisfied: charset-normalizer<4,>=2 in /opt/homebrew/anaconda3/envs/Jupyter310/lib/python3.10/site-packages (from requests->camel-tools->parsi_io==0.1.0) (3.4.1)\r\n",
      "Requirement already satisfied: idna<4,>=2.5 in /opt/homebrew/anaconda3/envs/Jupyter310/lib/python3.10/site-packages (from requests->camel-tools->parsi_io==0.1.0) (3.10)\r\n",
      "Requirement already satisfied: urllib3<3,>=1.21.1 in /opt/homebrew/anaconda3/envs/Jupyter310/lib/python3.10/site-packages (from requests->camel-tools->parsi_io==0.1.0) (2.4.0)\r\n",
      "Requirement already satisfied: certifi>=2017.4.17 in /opt/homebrew/anaconda3/envs/Jupyter310/lib/python3.10/site-packages (from requests->camel-tools->parsi_io==0.1.0) (2025.1.31)\r\n",
      "Requirement already satisfied: PySocks!=1.5.7,>=1.5.6 in /opt/homebrew/anaconda3/envs/Jupyter310/lib/python3.10/site-packages (from requests[socks]->gdown->parsi_io==0.1.0) (1.7.1)\r\n",
      "Requirement already satisfied: wrapt in /opt/homebrew/anaconda3/envs/Jupyter310/lib/python3.10/site-packages (from smart-open>=1.8.1->gensim<5.0.0,>=4.3.1->hazm>=0.7.0->parsi_io==0.1.0) (1.17.2)\r\n",
      "Requirement already satisfied: mpmath<1.4,>=1.1.0 in /opt/homebrew/anaconda3/envs/Jupyter310/lib/python3.10/site-packages (from sympy>=1.13.3->torch>=2.0->camel-tools->parsi_io==0.1.0) (1.3.0)\r\n",
      "Requirement already satisfied: MarkupSafe>=2.0 in /opt/homebrew/anaconda3/envs/Jupyter310/lib/python3.10/site-packages (from jinja2->torch>=2.0->camel-tools->parsi_io==0.1.0) (3.0.2)\r\n",
      "Building wheels for collected packages: parsi_io\r\n",
      "  Building wheel for parsi_io (setup.py) ... \u001B[?25ldone\r\n",
      "\u001B[?25h  Created wheel for parsi_io: filename=parsi_io-0.1.0-py3-none-any.whl size=19538839 sha256=c86eb51554f6c174b11242aa595082af4b93f1c528216f4de057fcff44f66956\r\n",
      "  Stored in directory: /private/var/folders/tk/kx7c6x1j16gdg23gt5g8mr440000gn/T/pip-ephem-wheel-cache-ega_3lq9/wheels/be/de/2b/bfc92c814d7a9cd7a2d7034872de2cdb317fec746ec2835208\r\n",
      "Successfully built parsi_io\r\n",
      "Installing collected packages: parsi_io\r\n",
      "Successfully installed parsi_io-0.1.0\r\n"
     ]
    }
   ],
   "execution_count": 7
  },
  {
   "metadata": {
    "ExecuteTime": {
     "end_time": "2025-04-24T01:46:50.558014Z",
     "start_time": "2025-04-24T01:46:50.240857Z"
    }
   },
   "cell_type": "code",
   "source": "# !pip uninstall parsi_io parsi-io -y",
   "id": "1b95578733cc7fad",
   "outputs": [
    {
     "name": "stdout",
     "output_type": "stream",
     "text": [
      "Found existing installation: parsi_io 0.1.0\r\n",
      "Uninstalling parsi_io-0.1.0:\r\n",
      "  Successfully uninstalled parsi_io-0.1.0\r\n"
     ]
    }
   ],
   "execution_count": 6
  },
  {
   "metadata": {},
   "cell_type": "markdown",
   "source": [
    "# 🧠 Part 2 – Verb Information Extraction\n",
    "\n",
    "This part shows how to identify each verb in Persian text and return its **tense, root, person, and type**."
   ],
   "id": "f9ee71ee463811c7"
  },
  {
   "metadata": {},
   "cell_type": "markdown",
   "source": [
    "## 🔹 2.1 What the extractor returns\n",
    "\n",
    "| Key      | Description                                                |\n",
    "|----------|------------------------------------------------------------|\n",
    "| `زمان`   | Tense: `گذشته`, `حال`, or `آینده`                          |\n",
    "| `بن فعل` | Verb root (past or present stem)                           |\n",
    "| `شخص`    | Grammatical person (1st, 2nd, 3rd; singular/plural)        |\n",
    "| `نوع`    | Sub-class such as `گذشته ساده`, `حال اخباری`, `آینده ساده` |"
   ],
   "id": "72673b4b28a162ac"
  },
  {
   "metadata": {},
   "cell_type": "markdown",
   "source": "## 🚀 2.2 Quick demo",
   "id": "e4dfc88c979c5439"
  },
  {
   "metadata": {
    "ExecuteTime": {
     "end_time": "2025-04-24T01:55:39.318636Z",
     "start_time": "2025-04-24T01:55:34.959045Z"
    }
   },
   "cell_type": "code",
   "source": [
    "from parsi_io.modules.verb_info_extractions import VerbInfoExtraction\n",
    "\n",
    "extractor = VerbInfoExtraction()\n",
    "\n",
    "text = \"من فردا به دانشگاه خواهم رفت اما امروز در خانه می‌نویسم.\"\n",
    "output = extractor.run(text)\n",
    "output"
   ],
   "id": "9e77646545c6c3cb",
   "outputs": [
    {
     "name": "stderr",
     "output_type": "stream",
     "text": [
      "100%|██████████| 11/11 [00:03<00:00,  2.89it/s]\n"
     ]
    },
    {
     "data": {
      "text/plain": [
       "[{'زمان': 'آینده',\n",
       "  'بن فعل': 'رفت',\n",
       "  'شخص': 'اول شخص مفرد',\n",
       "  'نوع': 'آینده ساده'},\n",
       " {'زمان': 'حال', 'بن فعل': 'نویس', 'شخص': 'اول شخص مفرد', 'نوع': 'حال اخباری'}]"
      ]
     },
     "execution_count": 20,
     "metadata": {},
     "output_type": "execute_result"
    }
   ],
   "execution_count": 20
  },
  {
   "metadata": {},
   "cell_type": "markdown",
   "source": [
    "# 🔢 Part 3 – Number Extraction\n",
    "\n",
    "This part shows how to extract numeric expressions (numerals, words, or mixed forms) from Persian text and convert them into int/float values."
   ],
   "id": "c45e06d29be57fc3"
  },
  {
   "metadata": {},
   "cell_type": "markdown",
   "source": [
    "## 🔹 3.1 What the extractor returns\n",
    "\n",
    "| Field    | Description                                    |\n",
    "|----------|------------------------------------------------|\n",
    "| `span`   | `[start, end]` character offsets of the phrase |\n",
    "| `phrase` | The matched numeric phrase                     |\n",
    "| `value`  | Float value corresponding to the phrase        |"
   ],
   "id": "112a52e966b701df"
  },
  {
   "metadata": {},
   "cell_type": "markdown",
   "source": "## 🚀 3.2 Quick demo",
   "id": "870d19952721d5e2"
  },
  {
   "metadata": {
    "ExecuteTime": {
     "end_time": "2025-04-24T02:04:23.616860Z",
     "start_time": "2025-04-24T02:04:23.613857Z"
    }
   },
   "cell_type": "code",
   "source": [
    "from parsi_io.modules.number_extractor import NumberExtractor\n",
    "\n",
    "extractor = NumberExtractor()\n",
    "\n",
    "text = \"من در بیست و پنجمین روز فروردین سوار اتوبوس ۱۲ شدم.\"\n",
    "output = extractor.run(text)\n",
    "output"
   ],
   "id": "e47264bc11912783",
   "outputs": [
    {
     "data": {
      "text/plain": [
       "[{'span': [6, 16], 'phrase': 'بیست و پنج', 'value': 25},\n",
       " {'span': [44, 46], 'phrase': '۱۲', 'value': 12.0}]"
      ]
     },
     "execution_count": 31,
     "metadata": {},
     "output_type": "execute_result"
    }
   ],
   "execution_count": 31
  },
  {
   "metadata": {},
   "cell_type": "code",
   "outputs": [],
   "execution_count": null,
   "source": "",
   "id": "f8542ec1051cdaa"
  }
 ],
 "metadata": {
  "kernelspec": {
   "display_name": "Python 3",
   "language": "python",
   "name": "python3"
  },
  "language_info": {
   "codemirror_mode": {
    "name": "ipython",
    "version": 2
   },
   "file_extension": ".py",
   "mimetype": "text/x-python",
   "name": "python",
   "nbconvert_exporter": "python",
   "pygments_lexer": "ipython2",
   "version": "2.7.6"
  }
 },
 "nbformat": 4,
 "nbformat_minor": 5
}
