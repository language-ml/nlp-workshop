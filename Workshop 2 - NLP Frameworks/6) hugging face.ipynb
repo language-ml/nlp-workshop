{
 "cells": [
  {
   "metadata": {},
   "cell_type": "markdown",
   "source": [
    "<font>\n",
    "<div dir=ltr align=center>\n",
    "<img src='https://cdn.freebiesupply.com/logos/large/2x/sharif-logo-png-transparent.png' width=150 height=150> <br>\n",
    "<font color=0F5298 size=6>\n",
    "Natural Language Processing<br>\n",
    "<font color=2565AE size=4>\n",
    "Computer Engineering Department<br>\n",
    "Spring 2025<br>\n",
    "<font color=3C99D size=4>\n",
    "Workshop 1 - NLP Frameworks - 🤗 Hugging Face<br>\n",
    "<font color=696880 size=3>\n",
    "<a href='https://language.ml'>https://language.ml</a><br>\n",
    "info [AT] language [dot] ml"
   ],
   "id": "99ace3b6f559ac3"
  },
  {
   "metadata": {},
   "cell_type": "markdown",
   "source": [
    "# 📖 Part 1 – Introduction\n",
    "\n",
    "Hugging Face provides two core Python libraries:\n",
    "\n",
    "| Library             | Purpose                                                                              |\n",
    "|---------------------|--------------------------------------------------------------------------------------|\n",
    "| **🤗 Datasets**     | Convenient access to hundreds of public NLP datasets (+ on-disk caching, streaming). |\n",
    "| **🤗 Transformers** | Thousands of pre-trained models (BERT, T5, GPT-2, etc.) with a unified API.          |\n",
    "\n",
    "You will learn just enough to **load a dataset** and **run a pre-trained model**; fine-tuning and configuration details are left for later study.\n"
   ],
   "id": "98dacdc744a17d41"
  },
  {
   "metadata": {},
   "cell_type": "markdown",
   "source": "## ⚙️ Installation & Setup",
   "id": "2da01515538c4e99"
  },
  {
   "metadata": {
    "ExecuteTime": {
     "end_time": "2025-04-24T10:28:16.083558Z",
     "start_time": "2025-04-24T10:28:15.486908Z"
    }
   },
   "cell_type": "code",
   "source": "!pip install transformers datasets torch",
   "id": "1b95578733cc7fad",
   "outputs": [
    {
     "name": "stdout",
     "output_type": "stream",
     "text": [
      "Requirement already satisfied: transformers in /opt/homebrew/anaconda3/envs/Jupyter310/lib/python3.10/site-packages (4.43.4)\r\n",
      "Requirement already satisfied: datasets in /opt/homebrew/anaconda3/envs/Jupyter310/lib/python3.10/site-packages (3.5.0)\r\n",
      "Requirement already satisfied: torch in /opt/homebrew/anaconda3/envs/Jupyter310/lib/python3.10/site-packages (2.7.0)\r\n",
      "Requirement already satisfied: filelock in /opt/homebrew/anaconda3/envs/Jupyter310/lib/python3.10/site-packages (from transformers) (3.18.0)\r\n",
      "Requirement already satisfied: huggingface-hub<1.0,>=0.23.2 in /opt/homebrew/anaconda3/envs/Jupyter310/lib/python3.10/site-packages (from transformers) (0.30.2)\r\n",
      "Requirement already satisfied: numpy>=1.17 in /opt/homebrew/anaconda3/envs/Jupyter310/lib/python3.10/site-packages (from transformers) (1.24.3)\r\n",
      "Requirement already satisfied: packaging>=20.0 in /opt/homebrew/anaconda3/envs/Jupyter310/lib/python3.10/site-packages (from transformers) (25.0)\r\n",
      "Requirement already satisfied: pyyaml>=5.1 in /opt/homebrew/anaconda3/envs/Jupyter310/lib/python3.10/site-packages (from transformers) (6.0.2)\r\n",
      "Requirement already satisfied: regex!=2019.12.17 in /opt/homebrew/anaconda3/envs/Jupyter310/lib/python3.10/site-packages (from transformers) (2024.11.6)\r\n",
      "Requirement already satisfied: requests in /opt/homebrew/anaconda3/envs/Jupyter310/lib/python3.10/site-packages (from transformers) (2.32.3)\r\n",
      "Requirement already satisfied: safetensors>=0.4.1 in /opt/homebrew/anaconda3/envs/Jupyter310/lib/python3.10/site-packages (from transformers) (0.5.3)\r\n",
      "Requirement already satisfied: tokenizers<0.20,>=0.19 in /opt/homebrew/anaconda3/envs/Jupyter310/lib/python3.10/site-packages (from transformers) (0.19.1)\r\n",
      "Requirement already satisfied: tqdm>=4.27 in /opt/homebrew/anaconda3/envs/Jupyter310/lib/python3.10/site-packages (from transformers) (4.67.1)\r\n",
      "Requirement already satisfied: pyarrow>=15.0.0 in /opt/homebrew/anaconda3/envs/Jupyter310/lib/python3.10/site-packages (from datasets) (19.0.1)\r\n",
      "Requirement already satisfied: dill<0.3.9,>=0.3.0 in /opt/homebrew/anaconda3/envs/Jupyter310/lib/python3.10/site-packages (from datasets) (0.3.8)\r\n",
      "Requirement already satisfied: pandas in /opt/homebrew/anaconda3/envs/Jupyter310/lib/python3.10/site-packages (from datasets) (2.2.3)\r\n",
      "Requirement already satisfied: xxhash in /opt/homebrew/anaconda3/envs/Jupyter310/lib/python3.10/site-packages (from datasets) (3.5.0)\r\n",
      "Requirement already satisfied: multiprocess<0.70.17 in /opt/homebrew/anaconda3/envs/Jupyter310/lib/python3.10/site-packages (from datasets) (0.70.16)\r\n",
      "Requirement already satisfied: fsspec<=2024.12.0,>=2023.1.0 in /opt/homebrew/anaconda3/envs/Jupyter310/lib/python3.10/site-packages (from fsspec[http]<=2024.12.0,>=2023.1.0->datasets) (2024.12.0)\r\n",
      "Requirement already satisfied: aiohttp in /opt/homebrew/anaconda3/envs/Jupyter310/lib/python3.10/site-packages (from datasets) (3.11.18)\r\n",
      "Requirement already satisfied: typing-extensions>=4.10.0 in /opt/homebrew/anaconda3/envs/Jupyter310/lib/python3.10/site-packages (from torch) (4.13.2)\r\n",
      "Requirement already satisfied: sympy>=1.13.3 in /opt/homebrew/anaconda3/envs/Jupyter310/lib/python3.10/site-packages (from torch) (1.13.3)\r\n",
      "Requirement already satisfied: networkx in /opt/homebrew/anaconda3/envs/Jupyter310/lib/python3.10/site-packages (from torch) (3.4.2)\r\n",
      "Requirement already satisfied: jinja2 in /opt/homebrew/anaconda3/envs/Jupyter310/lib/python3.10/site-packages (from torch) (3.1.6)\r\n",
      "Requirement already satisfied: aiohappyeyeballs>=2.3.0 in /opt/homebrew/anaconda3/envs/Jupyter310/lib/python3.10/site-packages (from aiohttp->datasets) (2.6.1)\r\n",
      "Requirement already satisfied: aiosignal>=1.1.2 in /opt/homebrew/anaconda3/envs/Jupyter310/lib/python3.10/site-packages (from aiohttp->datasets) (1.3.2)\r\n",
      "Requirement already satisfied: async-timeout<6.0,>=4.0 in /opt/homebrew/anaconda3/envs/Jupyter310/lib/python3.10/site-packages (from aiohttp->datasets) (5.0.1)\r\n",
      "Requirement already satisfied: attrs>=17.3.0 in /opt/homebrew/anaconda3/envs/Jupyter310/lib/python3.10/site-packages (from aiohttp->datasets) (25.3.0)\r\n",
      "Requirement already satisfied: frozenlist>=1.1.1 in /opt/homebrew/anaconda3/envs/Jupyter310/lib/python3.10/site-packages (from aiohttp->datasets) (1.6.0)\r\n",
      "Requirement already satisfied: multidict<7.0,>=4.5 in /opt/homebrew/anaconda3/envs/Jupyter310/lib/python3.10/site-packages (from aiohttp->datasets) (6.4.3)\r\n",
      "Requirement already satisfied: propcache>=0.2.0 in /opt/homebrew/anaconda3/envs/Jupyter310/lib/python3.10/site-packages (from aiohttp->datasets) (0.3.1)\r\n",
      "Requirement already satisfied: yarl<2.0,>=1.17.0 in /opt/homebrew/anaconda3/envs/Jupyter310/lib/python3.10/site-packages (from aiohttp->datasets) (1.20.0)\r\n",
      "Requirement already satisfied: charset-normalizer<4,>=2 in /opt/homebrew/anaconda3/envs/Jupyter310/lib/python3.10/site-packages (from requests->transformers) (3.4.1)\r\n",
      "Requirement already satisfied: idna<4,>=2.5 in /opt/homebrew/anaconda3/envs/Jupyter310/lib/python3.10/site-packages (from requests->transformers) (3.10)\r\n",
      "Requirement already satisfied: urllib3<3,>=1.21.1 in /opt/homebrew/anaconda3/envs/Jupyter310/lib/python3.10/site-packages (from requests->transformers) (2.4.0)\r\n",
      "Requirement already satisfied: certifi>=2017.4.17 in /opt/homebrew/anaconda3/envs/Jupyter310/lib/python3.10/site-packages (from requests->transformers) (2025.1.31)\r\n",
      "Requirement already satisfied: mpmath<1.4,>=1.1.0 in /opt/homebrew/anaconda3/envs/Jupyter310/lib/python3.10/site-packages (from sympy>=1.13.3->torch) (1.3.0)\r\n",
      "Requirement already satisfied: MarkupSafe>=2.0 in /opt/homebrew/anaconda3/envs/Jupyter310/lib/python3.10/site-packages (from jinja2->torch) (3.0.2)\r\n",
      "Requirement already satisfied: python-dateutil>=2.8.2 in /opt/homebrew/anaconda3/envs/Jupyter310/lib/python3.10/site-packages (from pandas->datasets) (2.9.0.post0)\r\n",
      "Requirement already satisfied: pytz>=2020.1 in /opt/homebrew/anaconda3/envs/Jupyter310/lib/python3.10/site-packages (from pandas->datasets) (2025.2)\r\n",
      "Requirement already satisfied: tzdata>=2022.7 in /opt/homebrew/anaconda3/envs/Jupyter310/lib/python3.10/site-packages (from pandas->datasets) (2025.2)\r\n",
      "Requirement already satisfied: six>=1.5 in /opt/homebrew/anaconda3/envs/Jupyter310/lib/python3.10/site-packages (from python-dateutil>=2.8.2->pandas->datasets) (1.17.0)\r\n"
     ]
    }
   ],
   "execution_count": 54
  },
  {
   "metadata": {},
   "cell_type": "markdown",
   "source": [
    "# 📚 Part 2 – Loading a Dataset\n",
    "\n",
    "This part shows how to load a dataset using 🤗 Datasets and inspect its basic structure."
   ],
   "id": "f9ee71ee463811c7"
  },
  {
   "metadata": {
    "ExecuteTime": {
     "end_time": "2025-04-24T10:28:21.902290Z",
     "start_time": "2025-04-24T10:28:16.087518Z"
    }
   },
   "cell_type": "code",
   "source": [
    "from datasets import load_dataset\n",
    "\n",
    "# Load the 'train' split of the Divar real estate ads dataset\n",
    "dataset = load_dataset(\"divaroffical/real_estate_ads\", split=\"train[:1000]\")\n",
    "# dataset = load_dataset(\"divaroffical/real_estate_ads\", split=\"train[:1000]+test\")"
   ],
   "id": "9e77646545c6c3cb",
   "outputs": [],
   "execution_count": 55
  },
  {
   "metadata": {
    "ExecuteTime": {
     "end_time": "2025-04-24T10:28:21.921732Z",
     "start_time": "2025-04-24T10:28:21.919978Z"
    }
   },
   "cell_type": "code",
   "source": "print(\"Number of examples:\", len(dataset))",
   "id": "bb78d3329a7e0004",
   "outputs": [
    {
     "name": "stdout",
     "output_type": "stream",
     "text": [
      "Number of examples: 1000\n"
     ]
    }
   ],
   "execution_count": 56
  },
  {
   "metadata": {
    "ExecuteTime": {
     "end_time": "2025-04-24T10:28:21.938531Z",
     "start_time": "2025-04-24T10:28:21.936591Z"
    }
   },
   "cell_type": "code",
   "source": "print(\"Column names:\", dataset.column_names)",
   "id": "2133116474298f11",
   "outputs": [
    {
     "name": "stdout",
     "output_type": "stream",
     "text": [
      "Column names: ['cat2_slug', 'cat3_slug', 'city_slug', 'neighborhood_slug', 'created_at_month', 'user_type', 'description', 'title', 'rent_mode', 'rent_value', 'rent_to_single', 'rent_type', 'price_mode', 'price_value', 'credit_mode', 'credit_value', 'rent_credit_transform', 'transformable_price', 'transformable_credit', 'transformed_credit', 'transformable_rent', 'transformed_rent', 'land_size', 'building_size', 'deed_type', 'has_business_deed', 'floor', 'rooms_count', 'total_floors_count', 'unit_per_floor', 'has_balcony', 'has_elevator', 'has_warehouse', 'has_parking', 'construction_year', 'is_rebuilt', 'has_water', 'has_warm_water_provider', 'has_electricity', 'has_gas', 'has_heating_system', 'has_cooling_system', 'has_restroom', 'has_security_guard', 'has_barbecue', 'building_direction', 'has_pool', 'has_jacuzzi', 'has_sauna', 'floor_material', 'property_type', 'regular_person_capacity', 'extra_person_capacity', 'cost_per_extra_person', 'rent_price_on_regular_days', 'rent_price_on_special_days', 'rent_price_at_weekends', 'location_latitude', 'location_longitude', 'location_radius']\n"
     ]
    }
   ],
   "execution_count": 57
  },
  {
   "metadata": {
    "ExecuteTime": {
     "end_time": "2025-04-24T10:28:21.950608Z",
     "start_time": "2025-04-24T10:28:21.948706Z"
    }
   },
   "cell_type": "code",
   "source": "print(\"Features:\", dataset.features)",
   "id": "9ce7a9ab7567b3d9",
   "outputs": [
    {
     "name": "stdout",
     "output_type": "stream",
     "text": [
      "Features: {'cat2_slug': Value(dtype='string', id=None), 'cat3_slug': Value(dtype='string', id=None), 'city_slug': Value(dtype='string', id=None), 'neighborhood_slug': Value(dtype='string', id=None), 'created_at_month': Value(dtype='string', id=None), 'user_type': Value(dtype='string', id=None), 'description': Value(dtype='string', id=None), 'title': Value(dtype='string', id=None), 'rent_mode': Value(dtype='string', id=None), 'rent_value': Value(dtype='float64', id=None), 'rent_to_single': Value(dtype='float64', id=None), 'rent_type': Value(dtype='string', id=None), 'price_mode': Value(dtype='string', id=None), 'price_value': Value(dtype='float64', id=None), 'credit_mode': Value(dtype='string', id=None), 'credit_value': Value(dtype='float64', id=None), 'rent_credit_transform': Value(dtype='bool', id=None), 'transformable_price': Value(dtype='bool', id=None), 'transformable_credit': Value(dtype='float64', id=None), 'transformed_credit': Value(dtype='float64', id=None), 'transformable_rent': Value(dtype='float64', id=None), 'transformed_rent': Value(dtype='float64', id=None), 'land_size': Value(dtype='float64', id=None), 'building_size': Value(dtype='float64', id=None), 'deed_type': Value(dtype='string', id=None), 'has_business_deed': Value(dtype='bool', id=None), 'floor': Value(dtype='string', id=None), 'rooms_count': Value(dtype='string', id=None), 'total_floors_count': Value(dtype='string', id=None), 'unit_per_floor': Value(dtype='string', id=None), 'has_balcony': Value(dtype='string', id=None), 'has_elevator': Value(dtype='bool', id=None), 'has_warehouse': Value(dtype='bool', id=None), 'has_parking': Value(dtype='bool', id=None), 'construction_year': Value(dtype='string', id=None), 'is_rebuilt': Value(dtype='bool', id=None), 'has_water': Value(dtype='bool', id=None), 'has_warm_water_provider': Value(dtype='string', id=None), 'has_electricity': Value(dtype='bool', id=None), 'has_gas': Value(dtype='bool', id=None), 'has_heating_system': Value(dtype='string', id=None), 'has_cooling_system': Value(dtype='string', id=None), 'has_restroom': Value(dtype='string', id=None), 'has_security_guard': Value(dtype='bool', id=None), 'has_barbecue': Value(dtype='bool', id=None), 'building_direction': Value(dtype='string', id=None), 'has_pool': Value(dtype='bool', id=None), 'has_jacuzzi': Value(dtype='bool', id=None), 'has_sauna': Value(dtype='bool', id=None), 'floor_material': Value(dtype='string', id=None), 'property_type': Value(dtype='string', id=None), 'regular_person_capacity': Value(dtype='float64', id=None), 'extra_person_capacity': Value(dtype='string', id=None), 'cost_per_extra_person': Value(dtype='float64', id=None), 'rent_price_on_regular_days': Value(dtype='float64', id=None), 'rent_price_on_special_days': Value(dtype='float64', id=None), 'rent_price_at_weekends': Value(dtype='float64', id=None), 'location_latitude': Value(dtype='float64', id=None), 'location_longitude': Value(dtype='float64', id=None), 'location_radius': Value(dtype='float64', id=None)}\n"
     ]
    }
   ],
   "execution_count": 58
  },
  {
   "metadata": {
    "ExecuteTime": {
     "end_time": "2025-04-24T10:28:21.966039Z",
     "start_time": "2025-04-24T10:28:21.963270Z"
    }
   },
   "cell_type": "code",
   "source": "dataset[0]",
   "id": "184c1a5c6cd4132a",
   "outputs": [
    {
     "data": {
      "text/plain": [
       "{'cat2_slug': 'temporary-rent',\n",
       " 'cat3_slug': 'villa',\n",
       " 'city_slug': 'karaj',\n",
       " 'neighborhood_slug': 'mehrshahr',\n",
       " 'created_at_month': '2024-08-01 00:00:00',\n",
       " 'user_type': 'مشاور املاک',\n",
       " 'description': '۵۰۰متر\\n۲۰۰متر بنا دوبلکس\\n۳خواب\\nاستخر آبگرم داخل\\nسیستم صوتی حرفه ای\\nسرگرمی ایرهاکی\\nبرای اطلاعات بیشتر تماس حاصل فرماید',\n",
       " 'title': 'باغ ویلا اجاره روزانه استخر داخل لشکرآباد سهیلیه',\n",
       " 'rent_mode': None,\n",
       " 'rent_value': None,\n",
       " 'rent_to_single': None,\n",
       " 'rent_type': None,\n",
       " 'price_mode': None,\n",
       " 'price_value': None,\n",
       " 'credit_mode': None,\n",
       " 'credit_value': None,\n",
       " 'rent_credit_transform': None,\n",
       " 'transformable_price': None,\n",
       " 'transformable_credit': None,\n",
       " 'transformed_credit': None,\n",
       " 'transformable_rent': None,\n",
       " 'transformed_rent': None,\n",
       " 'land_size': None,\n",
       " 'building_size': 500.0,\n",
       " 'deed_type': None,\n",
       " 'has_business_deed': None,\n",
       " 'floor': None,\n",
       " 'rooms_count': 'سه',\n",
       " 'total_floors_count': None,\n",
       " 'unit_per_floor': None,\n",
       " 'has_balcony': None,\n",
       " 'has_elevator': None,\n",
       " 'has_warehouse': None,\n",
       " 'has_parking': None,\n",
       " 'construction_year': None,\n",
       " 'is_rebuilt': None,\n",
       " 'has_water': None,\n",
       " 'has_warm_water_provider': None,\n",
       " 'has_electricity': None,\n",
       " 'has_gas': None,\n",
       " 'has_heating_system': None,\n",
       " 'has_cooling_system': None,\n",
       " 'has_restroom': None,\n",
       " 'has_security_guard': None,\n",
       " 'has_barbecue': None,\n",
       " 'building_direction': None,\n",
       " 'has_pool': None,\n",
       " 'has_jacuzzi': None,\n",
       " 'has_sauna': None,\n",
       " 'floor_material': None,\n",
       " 'property_type': None,\n",
       " 'regular_person_capacity': 4.0,\n",
       " 'extra_person_capacity': '6',\n",
       " 'cost_per_extra_person': 350000.0,\n",
       " 'rent_price_on_regular_days': 1500000.0,\n",
       " 'rent_price_on_special_days': 3500000000.0,\n",
       " 'rent_price_at_weekends': 3500000.0,\n",
       " 'location_latitude': 35.811683654785156,\n",
       " 'location_longitude': 50.93659973144531,\n",
       " 'location_radius': 500.0}"
      ]
     },
     "execution_count": 59,
     "metadata": {},
     "output_type": "execute_result"
    }
   ],
   "execution_count": 59
  },
  {
   "metadata": {
    "ExecuteTime": {
     "end_time": "2025-04-24T10:28:22.003394Z",
     "start_time": "2025-04-24T10:28:21.978647Z"
    }
   },
   "cell_type": "code",
   "source": [
    "new_dataset = dataset.map(\n",
    "    lambda rent_price_at_weekends: {\n",
    "        \"rent_price_at_weekends_rial\": None if rent_price_at_weekends is None else rent_price_at_weekends * 10\n",
    "    }, input_columns=[\"rent_price_at_weekends\"], remove_columns=[\"rent_price_at_weekends\"], num_proc=5)"
   ],
   "id": "f8542ec1051cdaa",
   "outputs": [],
   "execution_count": 60
  },
  {
   "metadata": {
    "ExecuteTime": {
     "end_time": "2025-04-24T10:28:22.019316Z",
     "start_time": "2025-04-24T10:28:22.017482Z"
    }
   },
   "cell_type": "code",
   "source": [
    "new_dataset_columns = set(new_dataset.column_names)\n",
    "dataset_columns = set(dataset.column_names)\n",
    "\n",
    "print(\"Added columns:\", new_dataset_columns - dataset_columns)\n",
    "print(\"Removed columns:\", dataset_columns - new_dataset_columns)"
   ],
   "id": "e1ed6761eef37bd",
   "outputs": [
    {
     "name": "stdout",
     "output_type": "stream",
     "text": [
      "Added columns: {'rent_price_at_weekends_rial'}\n",
      "Removed columns: {'rent_price_at_weekends'}\n"
     ]
    }
   ],
   "execution_count": 61
  },
  {
   "metadata": {},
   "cell_type": "markdown",
   "source": [
    "# 🏷️ Part 3 – Loading a Pre-trained Model & Tokenizer\n",
    "\n",
    "This part shows how to initialize a pretrained Persian model and its tokenizer from 🤗 Transformers."
   ],
   "id": "4deb740584529dcf"
  },
  {
   "metadata": {
    "ExecuteTime": {
     "end_time": "2025-04-24T10:28:23.122654Z",
     "start_time": "2025-04-24T10:28:22.031244Z"
    }
   },
   "cell_type": "code",
   "source": [
    "from transformers import AutoTokenizer, AutoModelForSequenceClassification\n",
    "\n",
    "# Choose a Persian BERT-based checkpoint\n",
    "model_name = \"HooshvareLab/bert-base-parsbert-uncased\"\n",
    "\n",
    "# Load tokenizer and model\n",
    "tokenizer = AutoTokenizer.from_pretrained(model_name)"
   ],
   "id": "8bff30dd8472dabb",
   "outputs": [],
   "execution_count": 62
  },
  {
   "metadata": {
    "ExecuteTime": {
     "end_time": "2025-04-24T10:28:23.149531Z",
     "start_time": "2025-04-24T10:28:23.147312Z"
    }
   },
   "cell_type": "code",
   "source": "tokenizer",
   "id": "9b4376b8664b882d",
   "outputs": [
    {
     "data": {
      "text/plain": [
       "BertTokenizerFast(name_or_path='HooshvareLab/bert-base-parsbert-uncased', vocab_size=100000, model_max_length=1000000000000000019884624838656, is_fast=True, padding_side='right', truncation_side='right', special_tokens={'unk_token': '[UNK]', 'sep_token': '[SEP]', 'pad_token': '[PAD]', 'cls_token': '[CLS]', 'mask_token': '[MASK]'}, clean_up_tokenization_spaces=True),  added_tokens_decoder={\n",
       "\t0: AddedToken(\"[PAD]\", rstrip=False, lstrip=False, single_word=False, normalized=False, special=True),\n",
       "\t1: AddedToken(\"[UNK]\", rstrip=False, lstrip=False, single_word=False, normalized=False, special=True),\n",
       "\t2: AddedToken(\"[CLS]\", rstrip=False, lstrip=False, single_word=False, normalized=False, special=True),\n",
       "\t3: AddedToken(\"[MASK]\", rstrip=False, lstrip=False, single_word=False, normalized=False, special=True),\n",
       "\t4: AddedToken(\"[SEP]\", rstrip=False, lstrip=False, single_word=False, normalized=False, special=True),\n",
       "}"
      ]
     },
     "execution_count": 63,
     "metadata": {},
     "output_type": "execute_result"
    }
   ],
   "execution_count": 63
  },
  {
   "metadata": {},
   "cell_type": "markdown",
   "source": [
    "# 🚀 Part 4 – Zero-Shot Tasks with ParsBERT-Base\n",
    "\n",
    "`HooshvareLab/bert-base-parsbert-uncased` can serve three common zero-shot tasks without any fine-tuning:\n",
    "\n",
    "| Sub-part | Task                                | Pipeline keyword       | Output                    |\n",
    "|----------|-------------------------------------|------------------------|---------------------------|\n",
    "| 4.1      | **Sentiment analysis**              | `\"sentiment-analysis\"` | single label + confidence |\n",
    "| 4.2      | **Masked-token prediction** (cloze) | `\"fill-mask\"`          | top-k token completions   |\n",
    "| 4.3      | **Feature extraction**              | `\"feature-extraction\"` | per-token embeddings      |"
   ],
   "id": "19e756221ea75e12"
  },
  {
   "metadata": {
    "ExecuteTime": {
     "end_time": "2025-04-24T10:28:23.155608Z",
     "start_time": "2025-04-24T10:28:23.153497Z"
    }
   },
   "cell_type": "code",
   "source": [
    "from transformers import pipeline\n",
    "import torch\n",
    "\n",
    "device = \"mps\" if torch.backends.mps.is_available() else \"cuda\" if torch.cuda.is_available() else \"cpu\"\n",
    "device"
   ],
   "id": "6f1ad4dfb15d1bf5",
   "outputs": [
    {
     "data": {
      "text/plain": [
       "'mps'"
      ]
     },
     "execution_count": 64,
     "metadata": {},
     "output_type": "execute_result"
    }
   ],
   "execution_count": 64
  },
  {
   "metadata": {},
   "cell_type": "markdown",
   "source": "## 🔹 4.1 Sentiment Analysis",
   "id": "83af9f141e8a982d"
  },
  {
   "metadata": {
    "ExecuteTime": {
     "end_time": "2025-04-24T10:28:24.088488Z",
     "start_time": "2025-04-24T10:28:23.167821Z"
    }
   },
   "cell_type": "code",
   "source": [
    "from transformers import AutoModelForSequenceClassification\n",
    "\n",
    "mdl_name = \"HooshvareLab/bert-base-parsbert-uncased\"\n",
    "clf_model = AutoModelForSequenceClassification.from_pretrained(mdl_name)"
   ],
   "id": "fd7101d96d140a2b",
   "outputs": [
    {
     "name": "stderr",
     "output_type": "stream",
     "text": [
      "Some weights of BertForSequenceClassification were not initialized from the model checkpoint at HooshvareLab/bert-base-parsbert-uncased and are newly initialized: ['classifier.bias', 'classifier.weight']\n",
      "You should probably TRAIN this model on a down-stream task to be able to use it for predictions and inference.\n"
     ]
    }
   ],
   "execution_count": 65
  },
  {
   "metadata": {
    "ExecuteTime": {
     "end_time": "2025-04-24T10:28:24.102545Z",
     "start_time": "2025-04-24T10:28:24.100090Z"
    }
   },
   "cell_type": "code",
   "source": "clf_model",
   "id": "3233f4b5f5914eb5",
   "outputs": [
    {
     "data": {
      "text/plain": [
       "BertForSequenceClassification(\n",
       "  (bert): BertModel(\n",
       "    (embeddings): BertEmbeddings(\n",
       "      (word_embeddings): Embedding(100000, 768, padding_idx=0)\n",
       "      (position_embeddings): Embedding(512, 768)\n",
       "      (token_type_embeddings): Embedding(2, 768)\n",
       "      (LayerNorm): LayerNorm((768,), eps=1e-12, elementwise_affine=True)\n",
       "      (dropout): Dropout(p=0.1, inplace=False)\n",
       "    )\n",
       "    (encoder): BertEncoder(\n",
       "      (layer): ModuleList(\n",
       "        (0-11): 12 x BertLayer(\n",
       "          (attention): BertAttention(\n",
       "            (self): BertSdpaSelfAttention(\n",
       "              (query): Linear(in_features=768, out_features=768, bias=True)\n",
       "              (key): Linear(in_features=768, out_features=768, bias=True)\n",
       "              (value): Linear(in_features=768, out_features=768, bias=True)\n",
       "              (dropout): Dropout(p=0.1, inplace=False)\n",
       "            )\n",
       "            (output): BertSelfOutput(\n",
       "              (dense): Linear(in_features=768, out_features=768, bias=True)\n",
       "              (LayerNorm): LayerNorm((768,), eps=1e-12, elementwise_affine=True)\n",
       "              (dropout): Dropout(p=0.1, inplace=False)\n",
       "            )\n",
       "          )\n",
       "          (intermediate): BertIntermediate(\n",
       "            (dense): Linear(in_features=768, out_features=3072, bias=True)\n",
       "            (intermediate_act_fn): GELUActivation()\n",
       "          )\n",
       "          (output): BertOutput(\n",
       "            (dense): Linear(in_features=3072, out_features=768, bias=True)\n",
       "            (LayerNorm): LayerNorm((768,), eps=1e-12, elementwise_affine=True)\n",
       "            (dropout): Dropout(p=0.1, inplace=False)\n",
       "          )\n",
       "        )\n",
       "      )\n",
       "    )\n",
       "    (pooler): BertPooler(\n",
       "      (dense): Linear(in_features=768, out_features=768, bias=True)\n",
       "      (activation): Tanh()\n",
       "    )\n",
       "  )\n",
       "  (dropout): Dropout(p=0.1, inplace=False)\n",
       "  (classifier): Linear(in_features=768, out_features=2, bias=True)\n",
       ")"
      ]
     },
     "execution_count": 66,
     "metadata": {},
     "output_type": "execute_result"
    }
   ],
   "execution_count": 66
  },
  {
   "metadata": {
    "ExecuteTime": {
     "end_time": "2025-04-24T10:28:24.115876Z",
     "start_time": "2025-04-24T10:28:24.113622Z"
    }
   },
   "cell_type": "code",
   "source": "clf_model.config",
   "id": "b17d7775b35e9fab",
   "outputs": [
    {
     "data": {
      "text/plain": [
       "BertConfig {\n",
       "  \"_name_or_path\": \"HooshvareLab/bert-base-parsbert-uncased\",\n",
       "  \"architectures\": [\n",
       "    \"BertForMaskedLM\"\n",
       "  ],\n",
       "  \"attention_probs_dropout_prob\": 0.1,\n",
       "  \"classifier_dropout\": null,\n",
       "  \"hidden_act\": \"gelu\",\n",
       "  \"hidden_dropout_prob\": 0.1,\n",
       "  \"hidden_size\": 768,\n",
       "  \"initializer_range\": 0.02,\n",
       "  \"intermediate_size\": 3072,\n",
       "  \"layer_norm_eps\": 1e-12,\n",
       "  \"max_position_embeddings\": 512,\n",
       "  \"model_type\": \"bert\",\n",
       "  \"num_attention_heads\": 12,\n",
       "  \"num_hidden_layers\": 12,\n",
       "  \"pad_token_id\": 0,\n",
       "  \"position_embedding_type\": \"absolute\",\n",
       "  \"transformers_version\": \"4.43.4\",\n",
       "  \"type_vocab_size\": 2,\n",
       "  \"use_cache\": true,\n",
       "  \"vocab_size\": 100000\n",
       "}"
      ]
     },
     "execution_count": 67,
     "metadata": {},
     "output_type": "execute_result"
    }
   ],
   "execution_count": 67
  },
  {
   "metadata": {
    "ExecuteTime": {
     "end_time": "2025-04-24T10:28:24.253543Z",
     "start_time": "2025-04-24T10:28:24.126275Z"
    }
   },
   "cell_type": "code",
   "source": [
    "sentiment = pipeline(\"sentiment-analysis\", model=clf_model, tokenizer=tokenizer, device=device)\n",
    "\n",
    "sample = dataset[\"description\"][0]\n",
    "print(\"Input snippet:\", sample[:80], \"…\")"
   ],
   "id": "a2510216e08a51bd",
   "outputs": [
    {
     "name": "stdout",
     "output_type": "stream",
     "text": [
      "Input snippet: ۵۰۰متر\n",
      "۲۰۰متر بنا دوبلکس\n",
      "۳خواب\n",
      "استخر آبگرم داخل\n",
      "سیستم صوتی حرفه ای\n",
      "سرگرمی ایرهاک …\n"
     ]
    }
   ],
   "execution_count": 68
  },
  {
   "metadata": {
    "ExecuteTime": {
     "end_time": "2025-04-24T10:28:24.276074Z",
     "start_time": "2025-04-24T10:28:24.264689Z"
    }
   },
   "cell_type": "code",
   "source": [
    "out = sentiment(sample)\n",
    "print(\"Output:\", out)\n",
    "print(\"Output[0]:\", out[0])"
   ],
   "id": "9e1d29bdfc942423",
   "outputs": [
    {
     "name": "stdout",
     "output_type": "stream",
     "text": [
      "Output: [{'label': 'LABEL_0', 'score': 0.5169467329978943}]\n",
      "Output[0]: {'label': 'LABEL_0', 'score': 0.5169467329978943}\n"
     ]
    }
   ],
   "execution_count": 69
  },
  {
   "metadata": {},
   "cell_type": "markdown",
   "source": "## 🔹 4.2 Masked-Token Prediction (Fill-Mask)",
   "id": "1c60e575f4ff5f0d"
  },
  {
   "metadata": {
    "ExecuteTime": {
     "end_time": "2025-04-24T10:28:26.014533Z",
     "start_time": "2025-04-24T10:28:24.287042Z"
    }
   },
   "cell_type": "code",
   "source": [
    "from transformers import AutoModelForMaskedLM\n",
    "\n",
    "mlm_model = AutoModelForMaskedLM.from_pretrained(mdl_name)"
   ],
   "id": "74026068a2764edd",
   "outputs": [
    {
     "name": "stderr",
     "output_type": "stream",
     "text": [
      "Some weights of the model checkpoint at HooshvareLab/bert-base-parsbert-uncased were not used when initializing BertForMaskedLM: ['bert.pooler.dense.bias', 'bert.pooler.dense.weight', 'cls.seq_relationship.bias', 'cls.seq_relationship.weight']\n",
      "- This IS expected if you are initializing BertForMaskedLM from the checkpoint of a model trained on another task or with another architecture (e.g. initializing a BertForSequenceClassification model from a BertForPreTraining model).\n",
      "- This IS NOT expected if you are initializing BertForMaskedLM from the checkpoint of a model that you expect to be exactly identical (initializing a BertForSequenceClassification model from a BertForSequenceClassification model).\n"
     ]
    }
   ],
   "execution_count": 70
  },
  {
   "metadata": {
    "ExecuteTime": {
     "end_time": "2025-04-24T10:28:26.038275Z",
     "start_time": "2025-04-24T10:28:26.035227Z"
    }
   },
   "cell_type": "code",
   "source": "mlm_model",
   "id": "6af4cd5c788d5432",
   "outputs": [
    {
     "data": {
      "text/plain": [
       "BertForMaskedLM(\n",
       "  (bert): BertModel(\n",
       "    (embeddings): BertEmbeddings(\n",
       "      (word_embeddings): Embedding(100000, 768, padding_idx=0)\n",
       "      (position_embeddings): Embedding(512, 768)\n",
       "      (token_type_embeddings): Embedding(2, 768)\n",
       "      (LayerNorm): LayerNorm((768,), eps=1e-12, elementwise_affine=True)\n",
       "      (dropout): Dropout(p=0.1, inplace=False)\n",
       "    )\n",
       "    (encoder): BertEncoder(\n",
       "      (layer): ModuleList(\n",
       "        (0-11): 12 x BertLayer(\n",
       "          (attention): BertAttention(\n",
       "            (self): BertSdpaSelfAttention(\n",
       "              (query): Linear(in_features=768, out_features=768, bias=True)\n",
       "              (key): Linear(in_features=768, out_features=768, bias=True)\n",
       "              (value): Linear(in_features=768, out_features=768, bias=True)\n",
       "              (dropout): Dropout(p=0.1, inplace=False)\n",
       "            )\n",
       "            (output): BertSelfOutput(\n",
       "              (dense): Linear(in_features=768, out_features=768, bias=True)\n",
       "              (LayerNorm): LayerNorm((768,), eps=1e-12, elementwise_affine=True)\n",
       "              (dropout): Dropout(p=0.1, inplace=False)\n",
       "            )\n",
       "          )\n",
       "          (intermediate): BertIntermediate(\n",
       "            (dense): Linear(in_features=768, out_features=3072, bias=True)\n",
       "            (intermediate_act_fn): GELUActivation()\n",
       "          )\n",
       "          (output): BertOutput(\n",
       "            (dense): Linear(in_features=3072, out_features=768, bias=True)\n",
       "            (LayerNorm): LayerNorm((768,), eps=1e-12, elementwise_affine=True)\n",
       "            (dropout): Dropout(p=0.1, inplace=False)\n",
       "          )\n",
       "        )\n",
       "      )\n",
       "    )\n",
       "  )\n",
       "  (cls): BertOnlyMLMHead(\n",
       "    (predictions): BertLMPredictionHead(\n",
       "      (transform): BertPredictionHeadTransform(\n",
       "        (dense): Linear(in_features=768, out_features=768, bias=True)\n",
       "        (transform_act_fn): GELUActivation()\n",
       "        (LayerNorm): LayerNorm((768,), eps=1e-12, elementwise_affine=True)\n",
       "      )\n",
       "      (decoder): Linear(in_features=768, out_features=100000, bias=True)\n",
       "    )\n",
       "  )\n",
       ")"
      ]
     },
     "execution_count": 71,
     "metadata": {},
     "output_type": "execute_result"
    }
   ],
   "execution_count": 71
  },
  {
   "metadata": {
    "ExecuteTime": {
     "end_time": "2025-04-24T10:28:26.160307Z",
     "start_time": "2025-04-24T10:28:26.056690Z"
    }
   },
   "cell_type": "code",
   "source": [
    "fill_mask = pipeline(\"fill-mask\", model=mlm_model, tokenizer=tokenizer, device=device)\n",
    "\n",
    "sentence = \"از تهران به [MASK] رفتم.\"\n",
    "for prediction in fill_mask(sentence):\n",
    "    print(f\"{prediction['token_str']:<8} → {prediction['score']:.4f}\")"
   ],
   "id": "7f14c0eff8a9866e",
   "outputs": [
    {
     "name": "stdout",
     "output_type": "stream",
     "text": [
      "اصفهان   → 0.0801\n",
      "کرج      → 0.0477\n",
      "شیراز    → 0.0370\n",
      "مشهد     → 0.0332\n",
      "انجا     → 0.0329\n"
     ]
    }
   ],
   "execution_count": 72
  },
  {
   "metadata": {},
   "cell_type": "markdown",
   "source": "## 🔹 4.3 Feature Extraction (Embeddings)",
   "id": "90fa18f75fb07fb6"
  },
  {
   "metadata": {
    "ExecuteTime": {
     "end_time": "2025-04-24T10:28:26.701516Z",
     "start_time": "2025-04-24T10:28:26.174813Z"
    }
   },
   "cell_type": "code",
   "source": [
    "from transformers import AutoModel\n",
    "\n",
    "fe_model = AutoModel.from_pretrained(mdl_name)"
   ],
   "id": "fb833dca259169b",
   "outputs": [],
   "execution_count": 73
  },
  {
   "metadata": {
    "ExecuteTime": {
     "end_time": "2025-04-24T10:28:26.715142Z",
     "start_time": "2025-04-24T10:28:26.712704Z"
    }
   },
   "cell_type": "code",
   "source": "fe_model",
   "id": "a78852d7a9d64545",
   "outputs": [
    {
     "data": {
      "text/plain": [
       "BertModel(\n",
       "  (embeddings): BertEmbeddings(\n",
       "    (word_embeddings): Embedding(100000, 768, padding_idx=0)\n",
       "    (position_embeddings): Embedding(512, 768)\n",
       "    (token_type_embeddings): Embedding(2, 768)\n",
       "    (LayerNorm): LayerNorm((768,), eps=1e-12, elementwise_affine=True)\n",
       "    (dropout): Dropout(p=0.1, inplace=False)\n",
       "  )\n",
       "  (encoder): BertEncoder(\n",
       "    (layer): ModuleList(\n",
       "      (0-11): 12 x BertLayer(\n",
       "        (attention): BertAttention(\n",
       "          (self): BertSdpaSelfAttention(\n",
       "            (query): Linear(in_features=768, out_features=768, bias=True)\n",
       "            (key): Linear(in_features=768, out_features=768, bias=True)\n",
       "            (value): Linear(in_features=768, out_features=768, bias=True)\n",
       "            (dropout): Dropout(p=0.1, inplace=False)\n",
       "          )\n",
       "          (output): BertSelfOutput(\n",
       "            (dense): Linear(in_features=768, out_features=768, bias=True)\n",
       "            (LayerNorm): LayerNorm((768,), eps=1e-12, elementwise_affine=True)\n",
       "            (dropout): Dropout(p=0.1, inplace=False)\n",
       "          )\n",
       "        )\n",
       "        (intermediate): BertIntermediate(\n",
       "          (dense): Linear(in_features=768, out_features=3072, bias=True)\n",
       "          (intermediate_act_fn): GELUActivation()\n",
       "        )\n",
       "        (output): BertOutput(\n",
       "          (dense): Linear(in_features=3072, out_features=768, bias=True)\n",
       "          (LayerNorm): LayerNorm((768,), eps=1e-12, elementwise_affine=True)\n",
       "          (dropout): Dropout(p=0.1, inplace=False)\n",
       "        )\n",
       "      )\n",
       "    )\n",
       "  )\n",
       "  (pooler): BertPooler(\n",
       "    (dense): Linear(in_features=768, out_features=768, bias=True)\n",
       "    (activation): Tanh()\n",
       "  )\n",
       ")"
      ]
     },
     "execution_count": 74,
     "metadata": {},
     "output_type": "execute_result"
    }
   ],
   "execution_count": 74
  },
  {
   "metadata": {
    "ExecuteTime": {
     "end_time": "2025-04-24T10:28:26.878078Z",
     "start_time": "2025-04-24T10:28:26.779199Z"
    }
   },
   "cell_type": "code",
   "source": [
    "fe = pipeline(\"feature-extraction\", model=fe_model, tokenizer=tokenizer, device=device)\n",
    "\n",
    "vecs = fe(\"سلام دنیا\")[0]  # shape: [num_tokens, 768]\n",
    "print(\"Tokens:\", len(vecs), \"| Hidden size:\", len(vecs[0]))"
   ],
   "id": "34e8e1e19ad568fe",
   "outputs": [
    {
     "name": "stdout",
     "output_type": "stream",
     "text": [
      "Tokens: 4 | Hidden size: 768\n"
     ]
    }
   ],
   "execution_count": 75
  },
  {
   "metadata": {
    "ExecuteTime": {
     "end_time": "2025-04-24T10:28:26.943842Z",
     "start_time": "2025-04-24T10:28:26.941479Z"
    }
   },
   "cell_type": "code",
   "source": [
    "tokens = tokenizer.tokenize(\"سلام دنیا\", add_special_tokens=True)\n",
    "tokens"
   ],
   "id": "726d51891c43df3b",
   "outputs": [
    {
     "data": {
      "text/plain": [
       "['[CLS]', 'سلام', 'دنیا', '[SEP]']"
      ]
     },
     "execution_count": 76,
     "metadata": {},
     "output_type": "execute_result"
    }
   ],
   "execution_count": 76
  },
  {
   "metadata": {
    "ExecuteTime": {
     "end_time": "2025-04-24T10:28:27.016210Z",
     "start_time": "2025-04-24T10:28:27.014935Z"
    }
   },
   "cell_type": "code",
   "source": "",
   "id": "cc7fac8842d93b3f",
   "outputs": [],
   "execution_count": null
  }
 ],
 "metadata": {
  "kernelspec": {
   "display_name": "Python 3",
   "language": "python",
   "name": "python3"
  },
  "language_info": {
   "codemirror_mode": {
    "name": "ipython",
    "version": 2
   },
   "file_extension": ".py",
   "mimetype": "text/x-python",
   "name": "python",
   "nbconvert_exporter": "python",
   "pygments_lexer": "ipython2",
   "version": "2.7.6"
  }
 },
 "nbformat": 4,
 "nbformat_minor": 5
}
